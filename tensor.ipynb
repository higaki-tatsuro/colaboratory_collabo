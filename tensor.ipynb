{
  "nbformat": 4,
  "nbformat_minor": 0,
  "metadata": {
    "colab": {
      "name": "tensor.ipynb",
      "provenance": [],
      "authorship_tag": "ABX9TyO054L7pIR3uRC+RiznDEs9",
      "include_colab_link": true
    },
    "kernelspec": {
      "name": "python3",
      "display_name": "Python 3"
    },
    "language_info": {
      "name": "python"
    }
  },
  "cells": [
    {
      "cell_type": "markdown",
      "metadata": {
        "id": "view-in-github",
        "colab_type": "text"
      },
      "source": [
        "<a href=\"https://colab.research.google.com/github/higaki-tatsuro/colaboratory_collabo/blob/main/tensor.ipynb\" target=\"_parent\"><img src=\"https://colab.research.google.com/assets/colab-badge.svg\" alt=\"Open In Colab\"/></a>"
      ]
    },
    {
      "cell_type": "code",
      "metadata": {
        "id": "gDHMDt6p0p2t"
      },
      "source": [
        "import tensorflow\n",
        "from tensorflow import keras\n",
        "from keras.datasets import mnist "
      ],
      "execution_count": 2,
      "outputs": []
    },
    {
      "cell_type": "code",
      "metadata": {
        "colab": {
          "base_uri": "https://localhost:8080/"
        },
        "id": "Aq_RhRBs0t0P",
        "outputId": "4fe87bb9-460e-4197-fc2b-f459bc72b5a3"
      },
      "source": [
        "(x_train,y_train),(x_test,y_test) = mnist.load_data()"
      ],
      "execution_count": 3,
      "outputs": [
        {
          "output_type": "stream",
          "text": [
            "Downloading data from https://storage.googleapis.com/tensorflow/tf-keras-datasets/mnist.npz\n",
            "11493376/11490434 [==============================] - 0s 0us/step\n",
            "11501568/11490434 [==============================] - 0s 0us/step\n"
          ],
          "name": "stdout"
        }
      ]
    },
    {
      "cell_type": "code",
      "metadata": {
        "id": "Vg-4hv2d05q_"
      },
      "source": [
        "model = keras.models.Sequential([\n",
        "                               keras.layers.Flatten(),\n",
        "                               keras.layers.Dense(516,activation='relu'),\n",
        "                               keras.layers.Dense(216,activation='relu'),\n",
        "                               keras.layers.Dropout(0.2),\n",
        "                               keras.layers.Dense(10,activation='softmax')\n",
        "])"
      ],
      "execution_count": 7,
      "outputs": []
    },
    {
      "cell_type": "code",
      "metadata": {
        "id": "MMukyxON1osx"
      },
      "source": [
        "model.compile(optimizer='adam',\n",
        "              loss='sparse_categorical_crossentropy',\n",
        "              metrics=['accuracy'])"
      ],
      "execution_count": 11,
      "outputs": []
    },
    {
      "cell_type": "code",
      "metadata": {
        "id": "haKWuK8G2Kkj"
      },
      "source": [
        "(x_train,x_test) = x_train / 255.0,y_train / 255.0 "
      ],
      "execution_count": 12,
      "outputs": []
    },
    {
      "cell_type": "code",
      "metadata": {
        "colab": {
          "base_uri": "https://localhost:8080/"
        },
        "id": "N_cg9oO92i9T",
        "outputId": "2438da17-5710-445f-fe86-e6e866e044ed"
      },
      "source": [
        "model.fit(x_train,y_train,epochs=10)"
      ],
      "execution_count": 13,
      "outputs": [
        {
          "output_type": "stream",
          "text": [
            "Epoch 1/10\n",
            "1875/1875 [==============================] - 11s 6ms/step - loss: 0.2005 - accuracy: 0.9402\n",
            "Epoch 2/10\n",
            "1875/1875 [==============================] - 10s 5ms/step - loss: 0.0864 - accuracy: 0.9732\n",
            "Epoch 3/10\n",
            "1875/1875 [==============================] - 10s 5ms/step - loss: 0.0602 - accuracy: 0.9815\n",
            "Epoch 4/10\n",
            "1875/1875 [==============================] - 10s 6ms/step - loss: 0.0452 - accuracy: 0.9852\n",
            "Epoch 5/10\n",
            "1875/1875 [==============================] - 10s 5ms/step - loss: 0.0396 - accuracy: 0.9874\n",
            "Epoch 6/10\n",
            "1875/1875 [==============================] - 10s 5ms/step - loss: 0.0310 - accuracy: 0.9902\n",
            "Epoch 7/10\n",
            "1875/1875 [==============================] - 10s 6ms/step - loss: 0.0286 - accuracy: 0.9913\n",
            "Epoch 8/10\n",
            "1875/1875 [==============================] - 10s 5ms/step - loss: 0.0226 - accuracy: 0.9925\n",
            "Epoch 9/10\n",
            "1875/1875 [==============================] - 10s 5ms/step - loss: 0.0225 - accuracy: 0.9929\n",
            "Epoch 10/10\n",
            "1875/1875 [==============================] - 10s 6ms/step - loss: 0.0201 - accuracy: 0.9933\n"
          ],
          "name": "stdout"
        },
        {
          "output_type": "execute_result",
          "data": {
            "text/plain": [
              "<keras.callbacks.History at 0x7f9d512e4f10>"
            ]
          },
          "metadata": {},
          "execution_count": 13
        }
      ]
    },
    {
      "cell_type": "code",
      "metadata": {
        "colab": {
          "base_uri": "https://localhost:8080/"
        },
        "id": "0UIKA-1i2rTl",
        "outputId": "883d2b0d-f787-489e-ff85-7a779bdf9855"
      },
      "source": [
        "print(y_train[1:5])\n",
        "model.predict(x_train[1:5])"
      ],
      "execution_count": 15,
      "outputs": [
        {
          "output_type": "stream",
          "text": [
            "[0 4 1 9]\n"
          ],
          "name": "stdout"
        },
        {
          "output_type": "execute_result",
          "data": {
            "text/plain": [
              "array([[1.0000000e+00, 1.7661916e-21, 2.1426747e-14, 4.5472750e-19,\n",
              "        7.9465177e-17, 4.7870259e-17, 1.4255034e-14, 2.3620085e-15,\n",
              "        1.9531641e-19, 2.2517712e-13],\n",
              "       [7.4899037e-18, 5.0536159e-11, 2.3311631e-14, 6.7427772e-19,\n",
              "        1.0000000e+00, 5.5102869e-20, 2.4712109e-16, 6.0787421e-12,\n",
              "        4.2638334e-15, 1.9959094e-10],\n",
              "       [1.6459672e-17, 1.0000000e+00, 4.1771705e-15, 2.1731158e-21,\n",
              "        3.1615338e-13, 3.8916147e-18, 8.3921797e-15, 6.0746381e-16,\n",
              "        8.6018319e-12, 1.1347249e-19],\n",
              "       [3.4810435e-14, 5.5361352e-14, 4.0595416e-14, 3.8506517e-10,\n",
              "        2.6682534e-08, 1.5597422e-12, 4.7491569e-17, 1.3413436e-09,\n",
              "        9.4242149e-11, 1.0000000e+00]], dtype=float32)"
            ]
          },
          "metadata": {},
          "execution_count": 15
        }
      ]
    },
    {
      "cell_type": "code",
      "metadata": {
        "id": "UR5yCMqH3iuq"
      },
      "source": [
        ""
      ],
      "execution_count": null,
      "outputs": []
    }
  ]
}