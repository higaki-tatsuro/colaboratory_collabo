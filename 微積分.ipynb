{
  "nbformat": 4,
  "nbformat_minor": 5,
  "metadata": {
    "kernelspec": {
      "display_name": "Python 3",
      "language": "python",
      "name": "python3"
    },
    "language_info": {
      "codemirror_mode": {
        "name": "ipython",
        "version": 3
      },
      "file_extension": ".py",
      "mimetype": "text/x-python",
      "name": "python",
      "nbconvert_exporter": "python",
      "pygments_lexer": "ipython3",
      "version": "3.8.8"
    },
    "colab": {
      "name": "微積分.ipynb",
      "provenance": [],
      "collapsed_sections": [],
      "include_colab_link": true
    }
  },
  "cells": [
    {
      "cell_type": "markdown",
      "metadata": {
        "id": "view-in-github",
        "colab_type": "text"
      },
      "source": [
        "<a href=\"https://colab.research.google.com/github/higaki-tatsuro/colaboratory_collabo/blob/main/%E5%BE%AE%E7%A9%8D%E5%88%86.ipynb\" target=\"_parent\"><img src=\"https://colab.research.google.com/assets/colab-badge.svg\" alt=\"Open In Colab\"/></a>"
      ]
    },
    {
      "cell_type": "code",
      "metadata": {
        "id": "0bc89b24"
      },
      "source": [
        "import numpy as np\n",
        "import matplotlib.pyplot as plt"
      ],
      "id": "0bc89b24",
      "execution_count": null,
      "outputs": []
    },
    {
      "cell_type": "code",
      "metadata": {
        "colab": {
          "base_uri": "https://localhost:8080/",
          "height": 283
        },
        "id": "5bdb27a7",
        "outputId": "0d1ba7cc-b26b-483f-c1d9-00ffe74d07d3"
      },
      "source": [
        "def my_func(x):\n",
        "    return 3*x**2 + 4*x - 5\n",
        "\n",
        "def my_func_dif(x):\n",
        "    return 6*x + 4 #my_funcの式を微分した導関数\n",
        "\n",
        "x = np.linspace(-3,3)\n",
        "y = my_func(x)\n",
        "\n",
        "a = 1\n",
        "#ある点(a,b)を通る傾きm直線の方程式はy = m(x - a) + b\n",
        "#なので、x=1の時の方程式は↓\n",
        "y_t = my_func_dif(a)*x + my_func(a) - my_func_dif(a)*a\n",
        "\n",
        "plt.plot(x,y,label='y')\n",
        "plt.plot(x,y_t,label='y_t')\n",
        "plt.legend()"
      ],
      "id": "5bdb27a7",
      "execution_count": null,
      "outputs": [
        {
          "output_type": "execute_result",
          "data": {
            "text/plain": [
              "<matplotlib.legend.Legend at 0x7f2329d65510>"
            ]
          },
          "metadata": {},
          "execution_count": 2
        },
        {
          "output_type": "display_data",
          "data": {
            "image/png": "[encoded data removed]",
            "text/plain": [
              "<Figure size 432x288 with 1 Axes>"
            ]
          },
          "metadata": {
            "needs_background": "light"
          }
        }
      ]
    },
    {
      "cell_type": "code",
      "metadata": {
        "colab": {
          "base_uri": "https://localhost:8080/",
          "height": 284
        },
        "id": "bb51c782",
        "outputId": "7d291cd6-1ae0-437a-896b-e0b49949f7b8"
      },
      "source": [
        "def my_func(x):\n",
        "    return -2*x**2 + x + 3\n",
        "\n",
        "def my_func_diff(x):\n",
        "    return -4*x + 1\n",
        "\n",
        "x = np.linspace(-3,3)\n",
        "y = my_func(x)\n",
        "\n",
        "a = 1\n",
        "y_t = my_func_diff(a)*x + my_func(a) - my_func_diff(a)*a\n",
        "\n",
        "plt.plot(x,y,label='y')\n",
        "plt.plot(x,y_t,label='y_t')\n",
        "plt.legend()"
      ],
      "id": "bb51c782",
      "execution_count": null,
      "outputs": [
        {
          "output_type": "execute_result",
          "data": {
            "text/plain": [
              "<matplotlib.legend.Legend at 0x7f2329874f10>"
            ]
          },
          "metadata": {},
          "execution_count": 3
        },
        {
          "output_type": "display_data",
          "data": {
            "image/png": "[encoded data removed]",
            "text/plain": [
              "<Figure size 432x288 with 1 Axes>"
            ]
          },
          "metadata": {
            "needs_background": "light"
          }
        }
      ]
    },
    {
      "cell_type": "code",
      "metadata": {
        "colab": {
          "base_uri": "https://localhost:8080/"
        },
        "id": "eee78554",
        "outputId": "e223660d-ed61-4078-ae4d-ec8df9cc3580"
      },
      "source": [
        "# ネイピア数\n",
        "print(np.e)\n",
        "# eの1乗\n",
        "print(np.exp(1))"
      ],
      "id": "eee78554",
      "execution_count": null,
      "outputs": [
        {
          "output_type": "stream",
          "text": [
            "2.718281828459045\n",
            "2.718281828459045\n"
          ],
          "name": "stdout"
        }
      ]
    },
    {
      "cell_type": "code",
      "metadata": {
        "colab": {
          "base_uri": "https://localhost:8080/"
        },
        "id": "3bfd81d2",
        "outputId": "0269fda6-a61b-460a-97c8-7d98cbce593b"
      },
      "source": [
        "# 自然対数\n",
        "x = np.log(3)\n",
        "# xには、ネイピア数を何乗すれば約3になるかを示した値が入る\n",
        "np.exp(x)"
      ],
      "id": "3bfd81d2",
      "execution_count": null,
      "outputs": [
        {
          "output_type": "execute_result",
          "data": {
            "text/plain": [
              "3.0000000000000004"
            ]
          },
          "metadata": {},
          "execution_count": 5
        }
      ]
    },
    {
      "cell_type": "code",
      "metadata": {
        "colab": {
          "base_uri": "https://localhost:8080/",
          "height": 283
        },
        "id": "aff1ddd0",
        "outputId": "242760eb-0e95-4c0a-a2ba-fb1cd373ce48"
      },
      "source": [
        "x = np.linspace(0.1,2)\n",
        "# ネイピア数のx乗\n",
        "y_e = np.exp(x)\n",
        "# xの自然対数\n",
        "y_log = np.log(x)\n",
        "\n",
        "plt.plot(x,y_e,label='y_e')\n",
        "plt.plot(x,y_log,label='y_t')\n",
        "plt.legend()"
      ],
      "id": "aff1ddd0",
      "execution_count": null,
      "outputs": [
        {
          "output_type": "execute_result",
          "data": {
            "text/plain": [
              "<matplotlib.legend.Legend at 0x7f23297fab90>"
            ]
          },
          "metadata": {},
          "execution_count": 6
        },
        {
          "output_type": "display_data",
          "data": {
            "image/png": "[encoded data removed]",
            "text/plain": [
              "<Figure size 432x288 with 1 Axes>"
            ]
          },
          "metadata": {
            "needs_background": "light"
          }
        }
      ]
    },
    {
      "cell_type": "code",
      "metadata": {
        "id": "d7c5c04b",
        "outputId": "b7d72d96-ea8d-4790-d3c8-d48140c3d36b"
      },
      "source": [
        "np.exp(0)"
      ],
      "id": "d7c5c04b",
      "execution_count": null,
      "outputs": [
        {
          "data": {
            "text/plain": [
              "1.0"
            ]
          },
          "execution_count": 14,
          "metadata": {},
          "output_type": "execute_result"
        }
      ]
    },
    {
      "cell_type": "code",
      "metadata": {
        "id": "0340010a"
      },
      "source": [
        ""
      ],
      "id": "0340010a",
      "execution_count": null,
      "outputs": []
    }
  ]
}